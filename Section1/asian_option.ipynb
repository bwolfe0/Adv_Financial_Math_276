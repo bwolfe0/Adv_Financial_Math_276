{
 "cells": [
  {
   "cell_type": "code",
   "execution_count": 15,
   "metadata": {},
   "outputs": [],
   "source": [
    "def asian_option(n,s,y,p,r,u,d,strike):\n",
    "    q = 1-p\n",
    "\n",
    "    # hard coded for 3 period model\n",
    "    if n == 3:\n",
    "        return max(.25*y - strike, 0)\n",
    "    \n",
    "    v_up = asian_option(n+1,u*s,y+u*s,p,r,u,d,strike)\n",
    "    v_down = asian_option(n+1,d*s,y+d*s,p,r,u,d,strike)\n",
    "\n",
    "    v_n = 1/(1+r) * (p*v_up + q*v_down)\n",
    "\n",
    "    return round(v_n,4)"
   ]
  },
  {
   "cell_type": "code",
   "execution_count": 16,
   "metadata": {},
   "outputs": [
    {
     "data": {
      "text/plain": [
       "1.216"
      ]
     },
     "execution_count": 16,
     "metadata": {},
     "output_type": "execute_result"
    }
   ],
   "source": [
    "asian_option(0,4,4,.5,.25,2,.5,4)"
   ]
  },
  {
   "cell_type": "code",
   "execution_count": null,
   "metadata": {},
   "outputs": [],
   "source": []
  }
 ],
 "metadata": {
  "kernelspec": {
   "display_name": "Python 3",
   "language": "python",
   "name": "python3"
  },
  "language_info": {
   "codemirror_mode": {
    "name": "ipython",
    "version": 3
   },
   "file_extension": ".py",
   "mimetype": "text/x-python",
   "name": "python",
   "nbconvert_exporter": "python",
   "pygments_lexer": "ipython3",
   "version": "3.10.2"
  },
  "orig_nbformat": 4,
  "vscode": {
   "interpreter": {
    "hash": "aee8b7b246df8f9039afb4144a1f6fd8d2ca17a180786b69acc140d282b71a49"
   }
  }
 },
 "nbformat": 4,
 "nbformat_minor": 2
}
