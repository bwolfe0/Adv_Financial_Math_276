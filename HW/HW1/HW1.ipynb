{
 "cells": [
  {
   "attachments": {},
   "cell_type": "markdown",
   "metadata": {},
   "source": [
    "# Question 1"
   ]
  },
  {
   "attachments": {},
   "cell_type": "markdown",
   "metadata": {},
   "source": [
    "## Part A"
   ]
  },
  {
   "attachments": {},
   "cell_type": "markdown",
   "metadata": {},
   "source": [
    "### Price at t=0"
   ]
  },
  {
   "cell_type": "code",
   "execution_count": 1,
   "metadata": {},
   "outputs": [
    {
     "name": "stdout",
     "output_type": "stream",
     "text": [
      "V0 = 0.595\n"
     ]
    }
   ],
   "source": [
    "def asian_option(n,N,S,Y,r,u,d):\n",
    "    p = (1+r-d)/ (u-d)\n",
    "    q = 1-p\n",
    "    \n",
    "    if n == N:\n",
    "        return max(Y/3-S,0)\n",
    "\n",
    "    v_up = asian_option(n+1,N,u*S,Y+u*S,r,u,d)\n",
    "    v_down = asian_option(n+1,N,d*S,Y+d*S,r,u,d)\n",
    "\n",
    "    v_n = 1/(1+r) * (p*v_up + q*v_down)\n",
    "\n",
    "    return v_n\n",
    "\n",
    "S0 = 16\n",
    "u = 1.25\n",
    "d = .75\n",
    "r = .1\n",
    "N = 3\n",
    "\n",
    "V0 = asian_option(0,N,S0,0,r,u,d)\n",
    "\n",
    "print(f\"V0 = {round(V0,3)}\")"
   ]
  },
  {
   "attachments": {},
   "cell_type": "markdown",
   "metadata": {},
   "source": [
    "### Replicating Portfolio"
   ]
  },
  {
   "cell_type": "code",
   "execution_count": 24,
   "metadata": {},
   "outputs": [
    {
     "name": "stdout",
     "output_type": "stream",
     "text": [
      "Delta0 = 0.0372\n",
      "Bank0 = 0.0\n",
      "\n",
      "Delta1 = -0.0455\n",
      "Bank1 = 0.9917\n",
      "\n",
      "Delta1 = -0.2\n",
      "Bank1 = 3.4091\n"
     ]
    }
   ],
   "source": [
    "V1_H = asian_option(1,N,S0*u,S0*u,r,u,d)\n",
    "V1_T = asian_option(1,N,S0*d,S0*d,r,u,d)\n",
    "delta_0 = (V1_H - V1_T) / (20-12) # S1_H - S1_T\n",
    "bank_0 = V0 - delta_0 * 16\n",
    "print(f\"Delta0 = {round(delta_0,4)}\")\n",
    "print(f\"Bank0 = {bank_0}\")\n",
    "print(\"\")\n",
    "\n",
    "V2_TH = asian_option(2,N,S0*d*u,S0*d + S0*d*u,r,u,d)\n",
    "V2_TT = asian_option(2,N,S0*d*d,S0*d + S0*d*d,r,u,d)\n",
    "delta_1_T = (V2_TH - V2_TT) / (15 - 9) # S2_TH - S2_TT\n",
    "bank_1_T = V1_T - (delta_1_T * 12)\n",
    "print(f\"Delta1 = {round(delta_1_T,4)}\")\n",
    "print(f\"Bank1 = {round(bank_1_T,4)}\")\n",
    "print(\"\")\n",
    "\n",
    "V3_THH = asian_option(3,N,S0*d*u*u,S0*d + S0*d*u + S0*d*u*u,r,u,d)\n",
    "V3_THT = asian_option(3,N,S0*d*u*d,S0*d + S0*d*u + S0*d*u*d,r,u,d)\n",
    "delta_2_TH = (V3_THH - V3_THT) / (18.75 - 11.25) # S3_THH - S3_THT\n",
    "bank_2_TH = V2_TH - (delta_2_TH * 15)\n",
    "print(f\"Delta1 = {round(delta_2_TH,4)}\")\n",
    "print(f\"Bank1 = {round(bank_2_TH,4)}\")"
   ]
  }
 ],
 "metadata": {
  "kernelspec": {
   "display_name": ".venv",
   "language": "python",
   "name": "python3"
  },
  "language_info": {
   "codemirror_mode": {
    "name": "ipython",
    "version": 3
   },
   "file_extension": ".py",
   "mimetype": "text/x-python",
   "name": "python",
   "nbconvert_exporter": "python",
   "pygments_lexer": "ipython3",
   "version": "3.10.2 (v3.10.2:a58ebcc701, Jan 13 2022, 14:50:16) [Clang 13.0.0 (clang-1300.0.29.30)]"
  },
  "orig_nbformat": 4,
  "vscode": {
   "interpreter": {
    "hash": "2dbcdf1f78f0e1d5fa60484a9d99bb60bd93e45dfcdd4619cb1f455eee1858c9"
   }
  }
 },
 "nbformat": 4,
 "nbformat_minor": 2
}
